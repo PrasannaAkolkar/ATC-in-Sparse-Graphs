{
  "cells": [
    {
      "cell_type": "markdown",
      "metadata": {
        "id": "view-in-github",
        "colab_type": "text"
      },
      "source": [
        "<a href=\"https://colab.research.google.com/github/PrasannaAkolkar/ATC-in-Sparse-Graphs/blob/main/Pruning.ipynb\" target=\"_parent\"><img src=\"https://colab.research.google.com/assets/colab-badge.svg\" alt=\"Open In Colab\"/></a>"
      ]
    },
    {
      "cell_type": "markdown",
      "metadata": {
        "id": "FkQKmOopv02-"
      },
      "source": [
        "# EE 599 HW 5 Part 2: Pruning\n",
        "\n",
        "Your task in this Colab notebook is to fill out the sections that are specified by **TODO** (please search the keyword `TODO` to make sure you do not miss any).\n",
        "\n",
        "Prerequisites: set the runtime type to GPU. (Runtime -> Change Runtime Type)"
      ]
    },
    {
      "cell_type": "markdown",
      "metadata": {
        "id": "N0kwrhWyhdKj"
      },
      "source": [
        "## Initial Setup\n",
        "\n",
        "This section imports all required packages from PyTorch."
      ]
    },
    {
      "cell_type": "code",
      "execution_count": 19,
      "metadata": {
        "id": "Pnvr5RGGvaVo"
      },
      "outputs": [],
      "source": [
        "import matplotlib.pyplot as plt\n",
        "\n",
        "import torch\n",
        "import torchvision\n",
        "import torchvision.transforms as transforms\n",
        "import torch.nn as nn\n",
        "import torch.nn.functional as F\n",
        "import torch.optim as optim\n",
        "from torch.utils.data import DataLoader"
      ]
    },
    {
      "cell_type": "markdown",
      "metadata": {
        "id": "O6i2NmUFvD-i"
      },
      "source": [
        "Verify that GPU is availble to use."
      ]
    },
    {
      "cell_type": "code",
      "execution_count": 20,
      "metadata": {
        "id": "Gy-bwFsFvD-j"
      },
      "outputs": [],
      "source": [
        "if torch.cuda.is_available():\n",
        "    device = torch.device('cuda')\n",
        "else:\n",
        "    device = torch.device('cpu')"
      ]
    },
    {
      "cell_type": "markdown",
      "metadata": {
        "id": "dGJOa8RAv9pW"
      },
      "source": [
        "## Create CNN\n",
        "\n",
        "Note: This section is similar to HW2.\n",
        "\n",
        "Prepare CIFAR10 dataset."
      ]
    },
    {
      "cell_type": "code",
      "execution_count": 21,
      "metadata": {
        "id": "N_TosuLRvD-j",
        "outputId": "ad9c3c29-dcf4-4262-9c36-2499e610a1eb",
        "colab": {
          "base_uri": "https://localhost:8080/"
        }
      },
      "outputs": [
        {
          "output_type": "stream",
          "name": "stdout",
          "text": [
            "Files already downloaded and verified\n",
            "Files already downloaded and verified\n"
          ]
        }
      ],
      "source": [
        "# Set the batch size for data processing\n",
        "batch_size = 4\n",
        "\n",
        "# Define the mean values and standard deviation values for normalization\n",
        "mean_values = (0.5, 0.5, 0.5)  # Mean values for red, green, and blue channels\n",
        "std_values = (0.5, 0.5, 0.5)   # Standard deviation values for red, green, and blue channels\n",
        "\n",
        "# Define the transformation pipeline\n",
        "transform = transforms.Compose([\n",
        "    transforms.ToTensor(),                  # Convert images to tensors\n",
        "    transforms.Normalize(mean_values, std_values)  # Normalize tensor values\n",
        "])\n",
        "\n",
        "# Load the CIFAR10 training dataset and apply the defined transformations\n",
        "trainset = torchvision.datasets.CIFAR10(root=\"./\", train=True,\n",
        "                                        download=True, transform=transform)\n",
        "\n",
        "# Create a DataLoader to efficiently load and process training data in batches\n",
        "trainloader = torch.utils.data.DataLoader(trainset, batch_size=batch_size,\n",
        "                                          shuffle=True, num_workers=2)\n",
        "\n",
        "# Load the CIFAR10 test dataset and apply the same transformations as for training\n",
        "testset = torchvision.datasets.CIFAR10(root=\"./\", train=False,\n",
        "                                       download=True, transform=transform)\n",
        "\n",
        "# Create a DataLoader for test data\n",
        "testloader = torch.utils.data.DataLoader(testset, batch_size=batch_size,\n",
        "                                         shuffle=False, num_workers=2)\n",
        "\n",
        "classes = ('plane', 'car', 'bird', 'cat',\n",
        "           'deer', 'dog', 'frog', 'horse', 'ship', 'truck')"
      ]
    },
    {
      "cell_type": "markdown",
      "metadata": {
        "id": "BmB6HyouvD-k"
      },
      "source": [
        "Define a simple CNN that classifies CIFAR images."
      ]
    },
    {
      "cell_type": "code",
      "execution_count": 22,
      "metadata": {
        "id": "iwwy7KL-vfYx"
      },
      "outputs": [],
      "source": [
        "class Net(nn.Module):\n",
        "    def __init__(self):\n",
        "        super(Net, self).__init__()\n",
        "\n",
        "        # Define the layers of the neural network architecture\n",
        "\n",
        "        # First convolutional layer: 3 input channels, 6 output channels, kernel size 5x5\n",
        "        self.conv1 = nn.Conv2d(3, 6, 5, bias=False)\n",
        "\n",
        "        # Max pooling layer with kernel size 2x2 and stride 2\n",
        "        self.pool = nn.MaxPool2d(2, 2)\n",
        "\n",
        "        # Second convolutional layer: 6 input channels, 16 output channels, kernel size 5x5\n",
        "        self.conv2 = nn.Conv2d(6, 16, 5, bias=False)\n",
        "\n",
        "        # Fully connected (dense) layers\n",
        "\n",
        "        # First fully connected layer: 16*5*5 input features, 120 output features\n",
        "        self.fc1 = nn.Linear(16 * 5 * 5, 120, bias=False)\n",
        "\n",
        "        # Second fully connected layer: 120 input features, 84 output features\n",
        "        self.fc2 = nn.Linear(120, 84, bias=False)\n",
        "\n",
        "        # Third fully connected layer: 84 input features, 10 output features (for classification)\n",
        "        self.fc3 = nn.Linear(84, 10, bias=False)\n",
        "\n",
        "    def forward(self, x: torch.Tensor) -> torch.Tensor:\n",
        "        # Forward pass through the neural network\n",
        "\n",
        "        # Apply first convolutional layer, followed by ReLU activation and max pooling\n",
        "        x = self.pool(F.relu(self.conv1(x)))\n",
        "\n",
        "        # Apply second convolutional layer, followed by ReLU activation and max pooling\n",
        "        x = self.pool(F.relu(self.conv2(x)))\n",
        "\n",
        "        # The output from the convolutional and pooling layers is in the form of a\n",
        "        # 3D tensor (height, width, depth or channels).\n",
        "        # To feed this tensor into a fully connected layer,\n",
        "        # it needs to be flattened into a 1D tensor.\n",
        "        # Reshape tensor for fully connected layers\n",
        "        # A2D tensor with a shape of [batch_size, 16 * 5 * 5].\n",
        "        x = x.view(-1, 16 * 5 * 5)\n",
        "\n",
        "        # Apply first fully connected layer, followed by ReLU activation\n",
        "        x = F.relu(self.fc1(x))\n",
        "\n",
        "        # Apply second fully connected layer, followed by ReLU activation\n",
        "        x = F.relu(self.fc2(x))\n",
        "\n",
        "        # Apply third fully connected layer (output layer)\n",
        "        x = self.fc3(x)\n",
        "\n",
        "        return x\n",
        "\n",
        "# Create an instance of the neural network and move it to the specified device (e.g., GPU)\n",
        "net = Net().to(device)"
      ]
    },
    {
      "cell_type": "markdown",
      "metadata": {
        "id": "TDns4c1UvD-k"
      },
      "source": [
        "Train this CNN on the training dataset (this may take a few moments)."
      ]
    },
    {
      "cell_type": "code",
      "execution_count": 23,
      "metadata": {
        "id": "aE-qNSlzvD-k"
      },
      "outputs": [],
      "source": [
        "def train(model: nn.Module, dataloader: DataLoader, epoch_num: int):\n",
        "    # Define the loss criterion and optimizer\n",
        "    criterion = nn.CrossEntropyLoss()  # Cross-entropy loss for classification\n",
        "    optimizer = optim.SGD(model.parameters(), lr=0.001, momentum=0.9)  # SGD optimizer with momentum\n",
        "\n",
        "    for epoch in range(epoch_num):  # Loop over the dataset for multiple epochs\n",
        "        running_loss = 0.0\n",
        "\n",
        "        # Iterate over mini-batches of data\n",
        "        for i, data in enumerate(dataloader, 0):\n",
        "            # Get the inputs; data is a list of [inputs, labels]\n",
        "            inputs, labels = data\n",
        "\n",
        "            inputs = inputs.to(device)  # Move inputs to the specified device\n",
        "            labels = labels.to(device)  # Move labels to the specified device\n",
        "\n",
        "            # Zero the gradients in the optimizer\n",
        "            optimizer.zero_grad()\n",
        "\n",
        "            # Forward pass + backward pass (backpropagation) + optimization\n",
        "            outputs = model(inputs)  # Forward pass through the model\n",
        "            loss = criterion(outputs, labels)  # Calculate the loss\n",
        "            loss.backward()  # Compute gradients\n",
        "            optimizer.step()  # Update model parameters\n",
        "\n",
        "            # Print statistics\n",
        "            running_loss += loss.item()\n",
        "            if i % 2000 == 1999:  # Print every 2000 mini-batches\n",
        "                print('[%d, %5d] loss: %.3f' %\n",
        "                    (epoch + 1, i + 1, running_loss / 2000))\n",
        "                running_loss = 0.0\n",
        "\n",
        "    print('Finished Training')  # Training loop is complete"
      ]
    },
    {
      "cell_type": "code",
      "execution_count": 24,
      "metadata": {
        "id": "t2b87iXDvD-k",
        "outputId": "b7bc1b4e-388b-4d78-d765-dc7bb379fd9f",
        "colab": {
          "base_uri": "https://localhost:8080/"
        }
      },
      "outputs": [
        {
          "output_type": "stream",
          "name": "stdout",
          "text": [
            "[1,  2000] loss: 2.182\n",
            "[1,  4000] loss: 1.893\n",
            "[1,  6000] loss: 1.674\n",
            "[1,  8000] loss: 1.621\n",
            "[1, 10000] loss: 1.531\n",
            "[1, 12000] loss: 1.496\n",
            "[2,  2000] loss: 1.427\n",
            "[2,  4000] loss: 1.426\n",
            "[2,  6000] loss: 1.370\n",
            "[2,  8000] loss: 1.374\n",
            "[2, 10000] loss: 1.335\n",
            "[2, 12000] loss: 1.330\n",
            "Finished Training\n"
          ]
        }
      ],
      "source": [
        "train(net, trainloader, 2)"
      ]
    },
    {
      "cell_type": "markdown",
      "metadata": {
        "id": "nV73WyzUvD-l"
      },
      "source": [
        "Let us look at how the network performs on the test dataset."
      ]
    },
    {
      "cell_type": "code",
      "execution_count": 25,
      "metadata": {
        "id": "OL8t9pmvvD-l",
        "outputId": "ef97ff8b-2465-492f-95a8-b08336cc736f",
        "colab": {
          "base_uri": "https://localhost:8080/"
        }
      },
      "outputs": [
        {
          "output_type": "stream",
          "name": "stdout",
          "text": [
            "Accuracy of the network on the test images: 53.84%\n"
          ]
        }
      ],
      "source": [
        "# A function to evaluate the performance of a given neural network model\n",
        "# using a test dataset.\n",
        "# It calculates the accuracy of the model's predictions on the test data.\n",
        "def calculate_accuracy(model: nn.Module, dataloader: DataLoader, max_samples=None) -> float:\n",
        "    correct_predictions = 0  # Initialize the count of correctly predicted samples\n",
        "    total_samples = 0    # Initialize the count of total samples\n",
        "    inference_count = 0  # Initialize the count of inferences made\n",
        "\n",
        "    with torch.no_grad():  # Disable gradient calculation for inference\n",
        "        for batch_data in dataloader:\n",
        "            images, labels = batch_data  # Separate images and labels from the batch\n",
        "\n",
        "            images = images.to(device)  # Move images to the specified device\n",
        "            labels = labels.to(device)  # Move labels to the specified device\n",
        "\n",
        "            outputs = model(images)  # Forward pass to get model predictions\n",
        "            _, predicted = torch.max(outputs.data, 1)  # Get predicted class indices\n",
        "\n",
        "            total_samples += labels.size(0)  # Increment the total count of samples\n",
        "            correct_predictions += (predicted == labels).sum().item()  # Count correct predictions\n",
        "\n",
        "            if max_samples:  # Check if a maximum number of samples for testing is specified\n",
        "                inference_count += images.shape[0]  # Increment the count of inferences made\n",
        "                if inference_count > max_samples:  # Stop testing if maximum samples reached\n",
        "                    break\n",
        "\n",
        "    accuracy = 100 * correct_predictions / total_samples  # Calculate the accuracy as a percentage\n",
        "    return accuracy\n",
        "\n",
        "score = calculate_accuracy(net, testloader)\n",
        "print('Accuracy of the network on the test images: {}%'.format(score))"
      ]
    },
    {
      "cell_type": "markdown",
      "metadata": {
        "id": "ryJIWLy0vD-l"
      },
      "source": [
        "## Measure Sparsity\n",
        "Print out the sparsity of each layer and the whole model's sparsity."
      ]
    },
    {
      "cell_type": "code",
      "execution_count": 26,
      "metadata": {
        "id": "B0jQrRIPvD-l"
      },
      "outputs": [],
      "source": [
        "def measure_sparsity(model:nn.Module):\n",
        "    \"\"\"\n",
        "    Print the sparsity information of LeNet5 models.\n",
        "\n",
        "    Args:\n",
        "    - model         (nn.Module): the given LeNet5\n",
        "\n",
        "    \"\"\"\n",
        "    # The layers in the LeNet5 model\n",
        "    module_name = ['conv1', 'conv2', 'fc1', 'fc2', 'fc3']\n",
        "    # The count variable to accumulate the counts within the layers\n",
        "    global_zeros = 0\n",
        "    global_elements = 0\n",
        "\n",
        "    for layer in module_name:\n",
        "        module = getattr(model, layer)\n",
        "        # count the number of zeros in the weights tensor\n",
        "        num_zeros = torch.sum(module.weight == 0)\n",
        "        # the total elements of the weights tensor\n",
        "        num_element = module.weight.nelement()\n",
        "        # the sparsity is ratio of zeros to total element amounts\n",
        "        sparsity = num_zeros/num_element\n",
        "        # print the sparsity information of the layer\n",
        "        print(f'Sparsity in {layer}weight: {100*sparsity:.2f}%')\n",
        "        # update the count of the whole model\n",
        "        global_zeros += num_zeros\n",
        "        global_elements += num_element\n",
        "\n",
        "    # print the global sparsity information\n",
        "    global_sparsity = global_zeros/global_elements\n",
        "    print(f'Global Sparsity: {100*global_sparsity:.2f}%')"
      ]
    },
    {
      "cell_type": "markdown",
      "metadata": {
        "id": "HJvp_On9vD-l"
      },
      "source": [
        "Initially, a model typically does not contain any deliberate zero values within its parameters."
      ]
    },
    {
      "cell_type": "code",
      "execution_count": 27,
      "metadata": {
        "id": "npNnfX55vD-l",
        "outputId": "59d1a1e3-e60a-4811-d5f4-9bb46e558c71",
        "colab": {
          "base_uri": "https://localhost:8080/"
        }
      },
      "outputs": [
        {
          "output_type": "stream",
          "name": "stdout",
          "text": [
            "Sparsity in conv1weight: 0.00%\n",
            "Sparsity in conv2weight: 0.00%\n",
            "Sparsity in fc1weight: 0.00%\n",
            "Sparsity in fc2weight: 0.00%\n",
            "Sparsity in fc3weight: 0.00%\n",
            "Global Sparsity: 0.00%\n"
          ]
        }
      ],
      "source": [
        "measure_sparsity(net)"
      ]
    },
    {
      "cell_type": "markdown",
      "metadata": {
        "id": "LSKBKhQHvD-l"
      },
      "source": [
        "## Visualize Weights\n",
        "\n",
        "Take each layer of our network and plot the historgram of its parameters."
      ]
    },
    {
      "cell_type": "code",
      "execution_count": 28,
      "metadata": {
        "id": "Nob-qYhhvD-m"
      },
      "outputs": [],
      "source": [
        "def analyze_layer_weights(layer_name: str, weight: torch.Tensor):\n",
        "    # Extract and flatten the weights of the given layer\n",
        "    layer_weights = weight.data.cpu().view(-1)\n",
        "\n",
        "    plt.figure(figsize=(5, 4))\n",
        "\n",
        "    # Plot a histogram of the flattened layer weights\n",
        "    plt.hist(layer_weights, density=True, bins=50)\n",
        "    plt.title(f\"{layer_name} Weights Histogram\")\n",
        "    plt.xlabel(\"Weight Value\")\n",
        "    plt.ylabel(\"Density\")\n",
        "\n",
        "    plt.show()"
      ]
    },
    {
      "cell_type": "markdown",
      "metadata": {
        "id": "tpSQWSwovD-m"
      },
      "source": [
        "## Unstructured Pruning\n",
        "\n",
        "We explore unstructured pruning via `torch.util.prune`, a method that relies on the concept of masks to selectively disable weights within the model. Weights marked with a `1` are preserved, while those marked as `0` are effectively pruned away, allowing us to study the impact of this pruning strategy on our model's performance."
      ]
    },
    {
      "cell_type": "markdown",
      "metadata": {
        "id": "4lF0g6q1vD-m"
      },
      "source": [
        "### **TODO 1:** Local Random Pruning\n",
        "Utilize the [`random_unstructured`](https://pytorch.org/docs/stable/generated/torch.nn.utils.prune.random_unstructured.html) function from the `torch.util.prune` library on the `conv1` layer. This function randomly prunes weights by generating a mask, simulating a scenario where certain connections are deemed non-essential. Your goal is to analyze the before-and-after effects of this pruning technique on model performance."
      ]
    },
    {
      "cell_type": "code",
      "execution_count": 31,
      "metadata": {
        "id": "QGQDAOY7vD-m",
        "outputId": "bc01e4d0-1a83-47c7-ea46-0c0eba3df9cb",
        "colab": {
          "base_uri": "https://localhost:8080/",
          "height": 1000
        }
      },
      "outputs": [
        {
          "output_type": "display_data",
          "data": {
            "text/plain": [
              "<Figure size 500x400 with 1 Axes>"
            ],
            "image/png": "[encoded data removed]"
          },
          "metadata": {}
        },
        {
          "output_type": "stream",
          "name": "stdout",
          "text": [
            "tensor([[[-7.0249e-02,  3.1661e-02,  6.1619e-02, -7.5378e-02, -2.2194e-02],\n",
            "         [-2.2460e-01,  7.2774e-02,  1.0089e-01,  3.7694e-02, -1.3463e-01],\n",
            "         [-4.3306e-01,  2.1071e-01,  4.6599e-01, -1.8063e-01, -4.2055e-01],\n",
            "         [-2.5713e-01,  2.7575e-01,  5.2231e-01, -1.1496e-01, -2.7037e-01],\n",
            "         [-4.9046e-02,  1.6592e-01, -4.9516e-05,  3.5536e-02, -1.4196e-01]],\n",
            "\n",
            "        [[ 1.5349e-01,  4.9504e-02,  7.5332e-02,  3.8535e-02, -2.4859e-02],\n",
            "         [ 8.7755e-02,  1.8787e-01,  1.9219e-01,  2.4018e-02, -1.5227e-01],\n",
            "         [-1.9727e-01,  3.4462e-01,  5.8077e-01, -6.1844e-02, -3.2840e-01],\n",
            "         [-7.2497e-02,  3.0631e-01,  4.8420e-01, -1.3326e-02, -2.5988e-01],\n",
            "         [ 2.1052e-01,  3.6939e-01,  1.5784e-01,  1.1449e-01,  6.8432e-02]],\n",
            "\n",
            "        [[-2.2020e-01, -1.8454e-02,  3.7017e-02, -2.0777e-01, -9.9426e-02],\n",
            "         [-1.9402e-01, -2.3516e-02,  1.5695e-01, -6.3391e-02, -2.8003e-01],\n",
            "         [-3.1110e-01,  1.7970e-01,  2.3107e-01, -1.3459e-01, -4.8904e-01],\n",
            "         [-2.9268e-01,  1.2495e-01,  4.9183e-01, -2.5759e-01, -4.9905e-01],\n",
            "         [-7.8897e-02,  7.1632e-02,  1.3494e-01,  3.7379e-02, -2.9313e-01]]],\n",
            "       device='cuda:0', grad_fn=<SliceBackward0>)\n"
          ]
        },
        {
          "output_type": "display_data",
          "data": {
            "text/plain": [
              "<Figure size 500x400 with 1 Axes>"
            ],
            "image/png": "[encoded data removed]"
          },
          "metadata": {}
        },
        {
          "output_type": "stream",
          "name": "stdout",
          "text": [
            "tensor([[[-0.0000e+00,  3.1661e-02,  6.1619e-02, -7.5378e-02, -2.2194e-02],\n",
            "         [-2.2460e-01,  0.0000e+00,  1.0089e-01,  3.7694e-02, -1.3463e-01],\n",
            "         [-4.3306e-01,  2.1071e-01,  4.6599e-01, -1.8063e-01, -4.2055e-01],\n",
            "         [-2.5713e-01,  2.7575e-01,  5.2231e-01, -1.1496e-01, -0.0000e+00],\n",
            "         [-4.9046e-02,  1.6592e-01, -4.9516e-05,  3.5536e-02, -1.4196e-01]],\n",
            "\n",
            "        [[ 1.5349e-01,  4.9504e-02,  7.5332e-02,  3.8535e-02, -2.4859e-02],\n",
            "         [ 8.7755e-02,  1.8787e-01,  1.9219e-01,  2.4018e-02, -1.5227e-01],\n",
            "         [-1.9727e-01,  3.4462e-01,  5.8077e-01, -6.1844e-02, -3.2840e-01],\n",
            "         [-7.2497e-02,  3.0631e-01,  4.8420e-01, -1.3326e-02, -2.5988e-01],\n",
            "         [ 2.1052e-01,  3.6939e-01,  1.5784e-01,  1.1449e-01,  6.8432e-02]],\n",
            "\n",
            "        [[-2.2020e-01, -1.8454e-02,  3.7017e-02, -2.0777e-01, -9.9426e-02],\n",
            "         [-1.9402e-01, -0.0000e+00,  1.5695e-01, -6.3391e-02, -2.8003e-01],\n",
            "         [-3.1110e-01,  1.7970e-01,  2.3107e-01, -0.0000e+00, -4.8904e-01],\n",
            "         [-2.9268e-01,  1.2495e-01,  0.0000e+00, -2.5759e-01, -0.0000e+00],\n",
            "         [-7.8897e-02,  7.1632e-02,  1.3494e-01,  3.7379e-02, -2.9313e-01]]],\n",
            "       device='cuda:0', grad_fn=<SliceBackward0>)\n"
          ]
        }
      ],
      "source": [
        "import copy\n",
        "import torch.nn.utils.prune as prune\n",
        "\n",
        "# deep copy a new model for pruning\n",
        "# net = Net()\n",
        "net_prune_rand = copy.deepcopy(net)\n",
        "layer1 = net_prune_rand.conv1\n",
        "\n",
        "# Plot the histogram of the weights of the first convolutional layer before pruning\n",
        "analyze_layer_weights('Conv1', layer1.weight)\n",
        "\n",
        "# Print the first filter in the first convolutional layer before pruning\n",
        "print(layer1.weight[0, :, :, :])\n",
        "\n",
        "# TODO: Prune the weights of the first convolutional layer\n",
        "\n",
        "prune.random_unstructured(layer1, name='weight', amount=0.1)\n",
        "\n",
        "\n",
        "\n",
        "# Plot the histogram of the weights of the first convolutional layer after pruning\n",
        "analyze_layer_weights('Conv1', layer1.weight)\n",
        "\n",
        "# Print the first filter in the first convolutional layer after pruning\n",
        "print(layer1.weight[0, :, :, :])"
      ]
    },
    {
      "cell_type": "code",
      "execution_count": 32,
      "metadata": {
        "id": "lfcqCBugxTLC",
        "outputId": "84e0ef3c-2e1a-4d9b-b476-f6b26d659714",
        "colab": {
          "base_uri": "https://localhost:8080/"
        }
      },
      "outputs": [
        {
          "output_type": "stream",
          "name": "stdout",
          "text": [
            "Sparsity in conv1weight: 10.00%\n",
            "Sparsity in conv2weight: 0.00%\n",
            "Sparsity in fc1weight: 0.00%\n",
            "Sparsity in fc2weight: 0.00%\n",
            "Sparsity in fc3weight: 0.00%\n",
            "Global Sparsity: 0.07%\n",
            "Accuracy of the network on the test images: 52.17%\n"
          ]
        }
      ],
      "source": [
        "# Print the sparsity information of the pruned model\n",
        "measure_sparsity(net_prune_rand)\n",
        "\n",
        "score = calculate_accuracy(net_prune_rand, testloader)\n",
        "print('Accuracy of the network on the test images: {}%'.format(score))"
      ]
    },
    {
      "cell_type": "markdown",
      "metadata": {
        "id": "FybYWDUzDHg-"
      },
      "source": [
        "### **TODO 2:** L1 Pruning Across the Model\n",
        "Random pruning might lead to unpredictable outcomes. A more systematic approach involves using L1 norm pruning, targeting the least significant weights based on their absolute values. Apply [`l1_unstructured`](https://pytorch.org/docs/stable/generated/torch.nn.utils.prune.l1_unstructured.html) pruning to all convolutional and fully-connected layers, adjusting the sparsity levels to 30% and 40% respectively."
      ]
    },
    {
      "cell_type": "code",
      "execution_count": 36,
      "metadata": {
        "id": "ggSuXTLY9LcZ"
      },
      "outputs": [],
      "source": [
        "net_prune_l1 = copy.deepcopy(net)\n",
        "\n",
        "# TODO: Prune out 30% of the weights in conv layers and 40% of the weights in fc layers\n",
        "\n",
        "for mod in net_prune_l1.modules():\n",
        "  if isinstance(mod, nn.Conv2d):\n",
        "    prune.l1_unstructured(mod, name='weight', amount=0.3)\n",
        "  elif isinstance(mod, nn.Linear):\n",
        "    prune.l1_unstructured(mod, name='weight', amount=0.4)\n",
        "\n",
        "\n",
        ""
      ]
    },
    {
      "cell_type": "code",
      "execution_count": 37,
      "metadata": {
        "colab": {
          "base_uri": "https://localhost:8080/"
        },
        "id": "HfU5G9kT_5ck",
        "outputId": "2c22680e-2c0f-4c68-86bd-360570d0d7fb"
      },
      "outputs": [
        {
          "output_type": "stream",
          "name": "stdout",
          "text": [
            "Sparsity in conv1weight: 30.00%\n",
            "Sparsity in conv2weight: 30.00%\n",
            "Sparsity in fc1weight: 40.00%\n",
            "Sparsity in fc2weight: 40.00%\n",
            "Sparsity in fc3weight: 40.00%\n",
            "Global Sparsity: 39.54%\n",
            "Accuracy of the network on the test images: 54.32%\n"
          ]
        }
      ],
      "source": [
        "measure_sparsity(net_prune_l1)\n",
        "\n",
        "score = calculate_accuracy(net_prune_l1, testloader)\n",
        "print('Accuracy of the network on the test images: {}%'.format(score))"
      ]
    },
    {
      "cell_type": "markdown",
      "metadata": {
        "id": "XVOWgES0FHU3"
      },
      "source": [
        "### **TODO 3:** Global Pruning for Network\n",
        "The use of random pruning can yield unpredictable outcomes. A more effective approach involves employing the L1 norm (absolute value) as a criterion for eliminating the least impactful values within the model. Apply the [`global_unstructured`](https://pytorch.org/docs/stable/generated/torch.nn.utils.prune.global_unstructured.html) function across all model parameters to reduce the overall parameter count by 40%. Note that with global pruning, the proportion of pruned parameters may vary between different layers of the model."
      ]
    },
    {
      "cell_type": "code",
      "execution_count": 62,
      "metadata": {
        "id": "10NNFFHAEx1a"
      },
      "outputs": [],
      "source": [
        "net_prune_glob= copy.deepcopy(net)\n",
        "\n",
        "# TODO: Perform global pruning to the model\n",
        "\n",
        "params = []\n",
        "\n",
        "for mod in net_prune_glob.modules():\n",
        "  if isinstance(mod, (nn.Conv2d, nn.Linear)):\n",
        "    params.append([mod,'weight'])\n",
        "\n",
        "prune.global_unstructured(params, pruning_method=prune.L1Unstructured, amount=0.4)"
      ]
    },
    {
      "cell_type": "code",
      "execution_count": 63,
      "metadata": {
        "colab": {
          "base_uri": "https://localhost:8080/"
        },
        "id": "nub6hOJqFfuz",
        "outputId": "44265a85-0feb-4871-d7b0-bab681fd91b1"
      },
      "outputs": [
        {
          "output_type": "stream",
          "name": "stdout",
          "text": [
            "Sparsity in conv1weight: 11.11%\n",
            "Sparsity in conv2weight: 19.21%\n",
            "Sparsity in fc1weight: 44.66%\n",
            "Sparsity in fc2weight: 26.22%\n",
            "Sparsity in fc3weight: 14.05%\n",
            "Global Sparsity: 40.00%\n",
            "Accuracy of the network on the test images: 54.25%\n"
          ]
        }
      ],
      "source": [
        "measure_sparsity(net_prune_glob)\n",
        "\n",
        "score = calculate_accuracy(net_prune_glob, testloader)\n",
        "print('Accuracy of the network on the test images: {}%'.format(score))"
      ]
    },
    {
      "cell_type": "markdown",
      "metadata": {
        "id": "giVjq-vyupED"
      },
      "source": [
        "### **TODO 4:** Iterative Pruning\n",
        "\n",
        "To maintain the model's effectiveness post-pruning, we adopt an iterative approach that combines pruning and fine-tuning. Your task involves completing the `iterative_pruning` function. This process involves repeatedly pruning the model using `global_unstructured` method, followed by fine-tuning model of one epoch to adjust to the changes (and print the sparsity information at the end of each iteration). The goal is to selectively reduce the model's complexity while preserving the performance.\n"
      ]
    },
    {
      "cell_type": "code",
      "execution_count": 59,
      "metadata": {
        "id": "pWFBn9w3FkCz"
      },
      "outputs": [],
      "source": [
        "def iter_pruning(model: nn.Module,\n",
        "                 train_loader: DataLoader,\n",
        "                 num_iter: int,\n",
        "                 prune_ratio: float):\n",
        "    \"\"\"\n",
        "    The iterative process of pruning and finetuning.\n",
        "\n",
        "    Args:\n",
        "    - model         (nn.Module): The neural network model to be pruned.\n",
        "    - train_loader (DataLoader): DataLoader object providing the training dataset.\n",
        "    - test_loader  (DataLoader): DataLoader object providing the test dataset.\n",
        "    - num_iter            (int): The number of the iterations\n",
        "    - prune_ratio       (float): The pruning ratio in each iteration\n",
        "\n",
        "    \"\"\"\n",
        "    criterion = nn.CrossEntropyLoss()  # Cross-entropy loss for classification\n",
        "    optimizer = optim.SGD(model.parameters(), lr=0.001, momentum=0.9)  # SGD optimizer with momentum\n",
        "\n",
        "    for i in range(num_iter):\n",
        "\n",
        "      params = []\n",
        "      for mod in model.modules():\n",
        "        if isinstance(mod, (nn.Conv2d, nn.Linear)):\n",
        "          params.append([mod,'weight'])\n",
        "\n",
        "      prune.global_unstructured(params, pruning_method=prune.L1Unstructured, amount=prune_ratio)\n",
        "\n",
        "      model.train()\n",
        "\n",
        "      for inputs, labels in train_loader:\n",
        "            inputs = inputs.to(device)\n",
        "            labels = labels.to(device)\n",
        "            optimizer.zero_grad()\n",
        "            loss = criterion(model(inputs),labels)\n",
        "            loss.backward()\n",
        "            optimizer.step()\n",
        "\n",
        "      measure_sparsity(model)"
      ]
    },
    {
      "cell_type": "code",
      "execution_count": 60,
      "metadata": {
        "colab": {
          "base_uri": "https://localhost:8080/"
        },
        "id": "wGfpGQDQtm6j",
        "outputId": "0be9405b-c0cf-460c-8a50-4f0c2294a40d"
      },
      "outputs": [
        {
          "output_type": "stream",
          "name": "stdout",
          "text": [
            "Sparsity in conv1weight: 6.44%\n",
            "Sparsity in conv2weight: 9.67%\n",
            "Sparsity in fc1weight: 22.32%\n",
            "Sparsity in fc2weight: 13.12%\n",
            "Sparsity in fc3weight: 6.90%\n",
            "Global Sparsity: 20.00%\n",
            "Sparsity in conv1weight: 13.56%\n",
            "Sparsity in conv2weight: 18.62%\n",
            "Sparsity in fc1weight: 39.81%\n",
            "Sparsity in fc2weight: 24.71%\n",
            "Sparsity in fc3weight: 15.12%\n",
            "Global Sparsity: 36.00%\n",
            "Sparsity in conv1weight: 17.33%\n",
            "Sparsity in conv2weight: 26.08%\n",
            "Sparsity in fc1weight: 53.37%\n",
            "Sparsity in fc2weight: 36.07%\n",
            "Sparsity in fc3weight: 22.14%\n",
            "Global Sparsity: 48.80%\n"
          ]
        }
      ],
      "source": [
        "net_prune_iter = copy.deepcopy(net)\n",
        "iter_pruning(net_prune_iter, trainloader, 3, 0.2)"
      ]
    },
    {
      "cell_type": "code",
      "execution_count": 61,
      "metadata": {
        "id": "yoQRcGiKvD-n",
        "outputId": "bcd6794d-d7a9-478c-d266-69379f8666df",
        "colab": {
          "base_uri": "https://localhost:8080/"
        }
      },
      "outputs": [
        {
          "output_type": "stream",
          "name": "stdout",
          "text": [
            "Accuracy of the network on the test images: 54.25%\n"
          ]
        }
      ],
      "source": [
        "score = calculate_accuracy(net_prune_glob, testloader)\n",
        "print('Accuracy of the network on the test images: {}%'.format(score))"
      ]
    },
    {
      "cell_type": "code",
      "source": [],
      "metadata": {
        "id": "19vZTwjRC_lu"
      },
      "execution_count": null,
      "outputs": []
    }
  ],
  "metadata": {
    "colab": {
      "provenance": [],
      "gpuType": "T4",
      "include_colab_link": true
    },
    "kernelspec": {
      "display_name": "Python 3",
      "name": "python3"
    },
    "language_info": {
      "codemirror_mode": {
        "name": "ipython",
        "version": 3
      },
      "file_extension": ".py",
      "mimetype": "text/x-python",
      "name": "python",
      "nbconvert_exporter": "python",
      "pygments_lexer": "ipython3",
      "version": "3.9.18"
    },
    "accelerator": "GPU"
  },
  "nbformat": 4,
  "nbformat_minor": 0
}